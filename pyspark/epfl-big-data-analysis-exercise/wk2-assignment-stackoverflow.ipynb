{
 "cells": [
  {
   "cell_type": "markdown",
   "metadata": {},
   "source": [
    "# Clustering StackOverflow Q&A\n",
    "\n",
    "EPFL Big Data Analysis Week 2 Assignment\n",
    "https://www.coursera.org/learn/scala-spark-big-data/home/info\n",
    "\n",
    "\"The overall goal of this assignment is to implement a distributed k-means algorithm which clusters posts on the popular question-answer platform StackOverflow according to their score. Moreover, this clustering should be executed in parallel for different programming languages, and the results should be compared.\n",
    "\n",
    "The motivation is as follows: StackOverflow is an important source of documentation. However, different user-provided answers may have very different ratings (based on user votes) based on their perceived value. Therefore, we would like to look at the distribution of questions and their answers. For example, how many highly-rated answers do StackOverflow users post, and how high are their scores? Are there big differences between higher-rated answers and lower-rated ones?\"\n",
    "\n",
    "Data file download link: http://alaska.epfl.ch/~dockermoocs/bigdata/stackoverflow.csv\n",
    "\n",
    "**WORK IN PROGRESS**"
   ]
  },
  {
   "cell_type": "code",
   "execution_count": 1,
   "metadata": {},
   "outputs": [],
   "source": [
    "import time\n",
    "\n",
    "# Credits to Fahim Sakri \n",
    "# Source (https://medium.com/pythonhive/python-decorator-to-measure-the-execution-time-of-methods-fa04cb6bb36d)\n",
    "# An annotation for timing a python function\n",
    "def timeit(method):\n",
    "    def timed(*args, **kw):\n",
    "        ts = time.time()\n",
    "        result = method(*args, **kw)\n",
    "        te = time.time()\n",
    "        if 'log_time' in kw:\n",
    "            name = kw.get('log_name', method.__name__.upper())\n",
    "            kw['log_time'][name] = int((te - ts) * 1000)\n",
    "        else:\n",
    "            print (\"%r  %2.2f ms\" % (method.__name__, (te - ts) * 1000))\n",
    "        return result\n",
    "    return timed\n",
    "\n",
    "from post import Post"
   ]
  },
  {
   "cell_type": "code",
   "execution_count": 2,
   "metadata": {},
   "outputs": [],
   "source": [
    "## Setup\n",
    "from pyspark.sql import SparkSession\n",
    "from pyspark.sql import Row\n",
    "from pyspark import SparkConf, SparkContext\n",
    "import pandas as pd\n",
    "import numpy as np\n",
    "\n",
    "spark = SparkSession \\\n",
    "    .builder \\\n",
    "    .appName(\"EPFL Wk2 Assignment\") \\\n",
    "    .getOrCreate()\n",
    "        \n",
    "spark.conf.set(\"spark.executor.instances\", 1)\n",
    "spark.conf.set(\"spark.executor.cores\", 1)\n",
    "spark.conf.set(\"spark.cores.max\", 1)\n",
    "spark.sparkContext.addPyFile('post.py')\n",
    "\n",
    "# Create RDD\n",
    "data = spark.read.csv('/data/epfl-big-data-analysis/stackoverflow.csv', header=False, inferSchema=True)\n",
    "data = data.withColumnRenamed(\"_c0\", \"post_type_id\") # type 1 = question, type 2 = answer\n",
    "data = data.withColumnRenamed(\"_c1\", \"id\")\n",
    "data = data.withColumnRenamed(\"_c2\", \"acceptedAnswerId\")\n",
    "data = data.withColumnRenamed(\"_c3\", \"parentId\")\n",
    "data = data.withColumnRenamed(\"_c4\", \"score\")\n",
    "data = data.withColumnRenamed(\"_c5\", \"tag\")\n",
    "\n",
    "#data = pd.read_csv('/data/epfl-big-data-analysis/stackoverflow.csv', \n",
    "#                   names=[\"post_type_id\", \"id\", \"acceptedAnswerId\", \"parentId\", \"score\", \"tag\"],\n",
    "#                   dtype={'post_type_id': np.int64, 'score': np.float16})\n",
    "data_size = data.count()"
   ]
  },
  {
   "cell_type": "code",
   "execution_count": 3,
   "metadata": {},
   "outputs": [
    {
     "data": {
      "text/plain": [
       "[Row(tag='C#'),\n",
       " Row(tag='JavaScript'),\n",
       " Row(tag='Perl'),\n",
       " Row(tag=None),\n",
       " Row(tag='C++'),\n",
       " Row(tag='Groovy'),\n",
       " Row(tag='Objective-C'),\n",
       " Row(tag='CSS'),\n",
       " Row(tag='MATLAB'),\n",
       " Row(tag='Haskell'),\n",
       " Row(tag='Scala'),\n",
       " Row(tag='Clojure'),\n",
       " Row(tag='PHP'),\n",
       " Row(tag='Ruby'),\n",
       " Row(tag='Python'),\n",
       " Row(tag='Java')]"
      ]
     },
     "execution_count": 3,
     "metadata": {},
     "output_type": "execute_result"
    }
   ],
   "source": [
    "data.select('tag').distinct().collect()"
   ]
  },
  {
   "cell_type": "code",
   "execution_count": 4,
   "metadata": {},
   "outputs": [
    {
     "name": "stdout",
     "output_type": "stream",
     "text": [
      "[Row(post_type_id=1, id=27233496, acceptedAnswerId=None, parentId=None, score=0, tag='C#')]\n",
      "[None, 'Java', 'Python', 'JavaScript', 'CSS', 'C++', 'Objective-C', 'Ruby', 'PHP', 'C#']\n"
     ]
    }
   ],
   "source": [
    "posts = spark.sparkContext.parallelize(data.head(100)).filter(lambda p: p.tag is not None or p.post_type_id == 2)\n",
    "data_size = 1000                                              \n",
    "#langs = [\"JavaScript\", \"Java\", \"PHP\", \"Python\", \"C#\", \"C++\", \"Ruby\", \"CSS\",\n",
    "#\"Objective-C\", \"Perl\", \"Scala\", \"Haskell\", \"MATLAB\", \"Clojure\", \"Groovy\"]\n",
    "print(posts.take(1))\n",
    "#posts.filter(lambda p: p.post_type_id == 1)\n",
    "langs = posts.map(lambda p: p.tag).distinct().collect()\n",
    "print(langs)"
   ]
  },
  {
   "cell_type": "markdown",
   "metadata": {},
   "source": [
    "### Step 1 Preparation - Grouped posts by question\n",
    "First we use the map function to create kv pairs for each type of posts namely questions and answers.  \n",
    "Then a join operation is used for merging the two datasets.  A dataset `RDD[(QID, Iterable(Question, Answer))]` should be useful, the key is the ID of the question post and the values is a collection of tuple (Question, Answer)."
   ]
  },
  {
   "cell_type": "code",
   "execution_count": 5,
   "metadata": {},
   "outputs": [
    {
     "name": "stdout",
     "output_type": "stream",
     "text": [
      "[(27233496, Row(post_type_id=1, id=27233496, acceptedAnswerId=None, parentId=None, score=0, tag='C#'))]\n",
      "[(5484340, Row(post_type_id=2, id=5494879, acceptedAnswerId=None, parentId=5484340, score=1, tag=None))]\n",
      "[(21984912, <pyspark.resultiterable.ResultIterable object at 0x7fbd388070b8>), (3627793, <pyspark.resultiterable.ResultIterable object at 0x7fbd388720b8>)]\n"
     ]
    }
   ],
   "source": [
    "questions = posts.filter(lambda p: p.post_type_id == 1).map(lambda p: (p.id, p))\n",
    "answers = posts.filter(lambda p: p.post_type_id == 2).map(lambda p: (p.parentId, p))\n",
    "grouped = questions.join(answers).groupByKey() # Use inner join to exclude posts with no answers\n",
    "print(questions.take(1))\n",
    "print(answers.take(1))\n",
    "print(grouped.take(2))"
   ]
  },
  {
   "cell_type": "markdown",
   "metadata": {},
   "source": [
    "### Step 2 Calculate maximum answer score for each question\n",
    "Produce a set of key-value pairs - Key of the pair is the question and value should be the maximum answer score of the question.  The output is an `RDD[(Posting, Int)]`"
   ]
  },
  {
   "cell_type": "code",
   "execution_count": 6,
   "metadata": {},
   "outputs": [
    {
     "name": "stdout",
     "output_type": "stream",
     "text": [
      "[(Row(post_type_id=1, id=21984912, acceptedAnswerId=None, parentId=None, score=0, tag='Java'), 0), (Row(post_type_id=1, id=3627793, acceptedAnswerId=None, parentId=None, score=45, tag='Python'), 31)]\n"
     ]
    }
   ],
   "source": [
    "def post_max_scores(iterable):\n",
    "    max_score = -1\n",
    "    for pair in iterable:\n",
    "        question = pair[0]\n",
    "        answer_score = pair[1].score\n",
    "        if answer_score > max_score:\n",
    "            max_score = answer_score\n",
    "        return (question, max_score)\n",
    "\n",
    "post_scores = grouped.values().map(post_max_scores) #(post_max_score)\n",
    "print(post_scores.take(2))"
   ]
  },
  {
   "cell_type": "markdown",
   "metadata": {},
   "source": [
    "### Step 3 Create vectors for clustering\n",
    "Prepare the vectors as an input for clustering.  \n",
    "\n",
    "<br/>\n",
    "Index of the language (in the langs list) multiplied by the `langSpread` factor.\n",
    "\n",
    "The highest answer score (computed above).\n",
    "\n",
    "The `langSpread factor` is provided (set to 50000). Basically, it makes sure posts about different programming languages have at least distance 50000 using the distance measure provided by the euclideanDist function. You will learn later what this distance means and why it is set to this value. The output is `RDD[(Int, Int)]`"
   ]
  },
  {
   "cell_type": "code",
   "execution_count": 7,
   "metadata": {},
   "outputs": [
    {
     "name": "stdout",
     "output_type": "stream",
     "text": [
      "25\n",
      "[(50000, 0)]\n"
     ]
    }
   ],
   "source": [
    "langSpread = 50000\n",
    "\n",
    "vectors = post_scores.map(lambda s: (langs.index(s[0].tag)*langSpread, s[1]))\n",
    "print(vectors.count())\n",
    "print(vectors.take(1))"
   ]
  },
  {
   "cell_type": "code",
   "execution_count": 38,
   "metadata": {},
   "outputs": [
    {
     "name": "stdout",
     "output_type": "stream",
     "text": [
      "0.1\n",
      "{0: 0.3, 50000: 0.3, 100000: 0.3, 150000: 0.3, 200000: 0.3, 250000: 0.3, 300000: 0.3, 350000: 0.3, 400000: 0.3, 450000: 0.3}\n",
      "25\n",
      "[(50000, 0), (100000, 31), (400000, 1), (100000, 6), (50000, 1), (250000, 2), (250000, 7), (350000, 5), (50000, 0)]\n"
     ]
    }
   ],
   "source": [
    "# K-means parameter: Number of clusters\n",
    "kmeansKernels = 45\n",
    "\n",
    "sample_ratio = 1/len(langs)#/len(langs)\n",
    "\n",
    "print(sample_ratio)\n",
    "fractions = dict([(langs.index(lang)*langSpread, 0.3) for lang in langs])\n",
    "sample_vectors = vectors.sampleByKey(False, fractions).take(kmeansKernels)\n",
    "print(fractions)\n",
    "print(vectors.count())\n",
    "print(sample_vectors)\n"
   ]
  },
  {
   "cell_type": "code",
   "execution_count": 39,
   "metadata": {},
   "outputs": [
    {
     "name": "stdout",
     "output_type": "stream",
     "text": [
      "[(50000, 0), (100000, 31), (400000, 1), (100000, 6), (50000, 1), (250000, 2), (250000, 7), (350000, 5), (50000, 0)]\n"
     ]
    }
   ],
   "source": [
    "## Helper methods for clustering\n",
    "from scipy.spatial import distance\n",
    "\n",
    "def euclideanDistanceSum(v1, v2):\n",
    "    distance_sum = 0\n",
    "    for i in np.arange(0, len(v1)):\n",
    "        vector1 = v1[i]\n",
    "        vector2 = v2[i]\n",
    "        distance_sum = distance_sum + distance.euclidean(vector1, vector2)\n",
    "    return distance_sum\n",
    "\n",
    "def findClosest(p, means):\n",
    "    closest_distance = np.iinfo(np.int32).max\n",
    "    for i in np.arange(0, len(means)):\n",
    "        m = means[i]\n",
    "        print(p)\n",
    "        print(m)\n",
    "        dist = distance.euclidean(p, m)\n",
    "        if dist < closest_distance:\n",
    "            closest_i = i\n",
    "            closest_distance = dist\n",
    "    return closest_i\n",
    "\n",
    "def averageVectors(v1, v2):\n",
    "    return ((v1[0] + v2[0])/2, (v1[1] + v2[1])/2)\n",
    "\n",
    "def distance_from_mean(v, means):\n",
    "    mean_index = v[0]\n",
    "    mean_vector = means[mean_index]\n",
    "    return distance.euclidean(v[1], mean_vector)\n",
    "    \n",
    "def averageVectors1(v):\n",
    "    sum1 = 0\n",
    "    sum2 = 0\n",
    "    for vector in v:\n",
    "        sum1 = sum1 + vector1\n",
    "        sum2 = sum2 + vector[1]\n",
    "    return (sum1/len(v), sum2/len(v))\n",
    "sample_means = sample_vectors # [(i, sample_vectors[i-1]) for i in np.arange(1, len(sample_vectors)+1)]\n",
    "print(sample_means)    \n"
   ]
  },
  {
   "cell_type": "code",
   "execution_count": 40,
   "metadata": {},
   "outputs": [],
   "source": [
    "def kmeans(kmeansEta, kmeansMaxIterations, sample_means, vectors):    \n",
    "    #kmeans(sample_vectors, post_scores)\n",
    "    #def kmeans(sample_means, vectors):\n",
    "    itr = 1\n",
    "\n",
    "    print(vectors.collect())\n",
    "    means = sample_means\n",
    "    clusters = vectors \\\n",
    "        .map(lambda v: (findClosest(v, means), v)).cache()\n",
    "\n",
    "    while itr <= kmeansMaxIterations:\n",
    "        #print(clusters.mapValues(lambda vector: (vector[0])).collect())\n",
    "        #print(clusters.map(lambda v: (v[0], distance_from_mean(v, means))).take(1))\n",
    "\n",
    "        print(\"Iteration \" + str(itr))\n",
    "\n",
    "        new_means_vector = clusters.reduceByKey(lambda v1, v2: averageVectors(v1, v2)) \\\n",
    "        .sortByKey()\n",
    "\n",
    "        mm = new_means_vector.values().collect()\n",
    "\n",
    "        if (len(means) != len(mm)):\n",
    "            raise Exception(\"Number of new means (\" + str(len(mm)) +\") is not the same as the number of old means(\" + str(len(means)) + \")\")\n",
    "\n",
    "        d_sum = euclideanDistanceSum(means, mm)\n",
    "        means = mm\n",
    "        clusters = vectors \\\n",
    "        .map(lambda v: (findClosest(v, means), v)).cache()\n",
    "        \n",
    "        error = clusters.map(lambda v: (v[0], distance_from_mean(v, means))) \\\n",
    "                .reduceByKey(lambda v1, v2: v1 + v2) \\\n",
    "                .collect()\n",
    "\n",
    "\n",
    "        print(\"Search completed, diff is \" + str(d_sum) + \", error \" + str(error))\n",
    "        print(means)\n",
    "\n",
    "        if d_sum <= kmeansEta:\n",
    "            break\n",
    "\n",
    "        itr = itr + 1\n",
    "        \n",
    "    print('means:')\n",
    "    print(means)\n",
    "    print('clusters:')\n",
    "    print(clusters.collect())\n",
    "    print('error:')\n",
    "    print(error)"
   ]
  },
  {
   "cell_type": "code",
   "execution_count": 36,
   "metadata": {},
   "outputs": [
    {
     "name": "stdout",
     "output_type": "stream",
     "text": [
      "[(30, 33), (31, 39), (26, 13)]\n",
      "[(18, 10), (21, 11), (22, 22), (24, 15), (26, 12), (26, 13), (27, 14), (30, 33), (31, 39), (35, 37), (39, 44), (40, 27), (41, 29), (42, 20), (44, 28), (46, 21), (47, 30), (48, 31), (49, 23), (54, 24)]\n",
      "Iteration 1\n",
      "Search completed, diff is 33.802032255024365, error [(0, 53.65086197897749), (1, 23.750911119871446), (2, 79.27569873867691)]\n",
      "[(48.328125, 25.65625), (36.0, 41.0), (33.796875, 16.796875)]\n",
      "Iteration 2\n",
      "Search completed, diff is 10.749439854531516, error [(0, 54.62686848125661), (1, 21.296217092325683), (2, 28.77218670368888)]\n",
      "[(48.59375, 25.25), (35.25, 39.75), (25.59375, 13.59375)]\n",
      "Iteration 3\n",
      "Search completed, diff is 0.0, error [(0, 54.62686848125661), (1, 21.296217092325683), (2, 28.77218670368888)]\n",
      "[(48.59375, 25.25), (35.25, 39.75), (25.59375, 13.59375)]\n",
      "means:\n",
      "[(48.59375, 25.25), (35.25, 39.75), (25.59375, 13.59375)]\n",
      "clusters:\n",
      "[(2, (18, 10)), (2, (21, 11)), (2, (22, 22)), (2, (24, 15)), (2, (26, 12)), (2, (26, 13)), (2, (27, 14)), (1, (30, 33)), (1, (31, 39)), (1, (35, 37)), (1, (39, 44)), (0, (40, 27)), (0, (41, 29)), (0, (42, 20)), (0, (44, 28)), (0, (46, 21)), (0, (47, 30)), (0, (48, 31)), (0, (49, 23)), (0, (54, 24))]\n",
      "error:\n",
      "[(0, 54.62686848125661), (1, 21.296217092325683), (2, 28.77218670368888)]\n"
     ]
    }
   ],
   "source": [
    "# Test kmeans\n",
    "\n",
    "v1 = [18, 21, 22, 24, 26, 26, 27, 30, 31, 35, 39, 40, 41, 42, 44, 46, 47, 48, 49, 54]\n",
    "v2 = [10, 11, 22, 15, 12, 13, 14, 33, 39, 37, 44, 27, 29, 20, 28, 21, 30, 31, 23, 24]\n",
    "\n",
    "for ii in np.arange(0, len(v1)):\n",
    "    vv.append((v1[ii], v2[ii]))\n",
    "\n",
    "my_vectors = spark.sparkContext.parallelize(vv)    \n",
    "my_means = my_vectors.takeSample(False, 3)\n",
    "\n",
    "print(my_means)\n",
    "    \n",
    "kmeans(1, 10, my_means, my_vectors)\n"
   ]
  },
  {
   "cell_type": "code",
   "execution_count": 41,
   "metadata": {},
   "outputs": [
    {
     "name": "stdout",
     "output_type": "stream",
     "text": [
      "[(50000, 0), (100000, 31), (450000, 1), (400000, 0), (450000, 1), (50000, 2), (150000, 1), (100000, 1), (250000, 4), (50000, 0), (450000, 1), (450000, 0), (400000, 1), (100000, 6), (100000, 4), (300000, 6), (50000, 1), (250000, 2), (250000, 7), (400000, 0), (350000, 5), (150000, 0), (400000, 1), (400000, 0), (50000, 0)]\n",
      "Iteration 1\n",
      "Search completed, diff is 0.0, error [(0, 369726.58683156886), (1, 6.0), (2, 1.5), (3, 50000.00001), (4, 0.0), (5, 0.0)]\n",
      "[(80273.4375, 0.693359375), (250000.0, 5.0), (450000.0, 0.75), (325000.0, 5.5), (400000.0, 1.0), (400000.0, 0.0)]\n",
      "means:\n",
      "[(80273.4375, 0.693359375), (250000.0, 5.0), (450000.0, 0.75), (325000.0, 5.5), (400000.0, 1.0), (400000.0, 0.0)]\n",
      "clusters:\n",
      "[(0, (50000, 0)), (0, (100000, 31)), (2, (450000, 1)), (5, (400000, 0)), (2, (450000, 1)), (0, (50000, 2)), (0, (150000, 1)), (0, (100000, 1)), (1, (250000, 4)), (0, (50000, 0)), (2, (450000, 1)), (2, (450000, 0)), (4, (400000, 1)), (0, (100000, 6)), (0, (100000, 4)), (3, (300000, 6)), (0, (50000, 1)), (1, (250000, 2)), (1, (250000, 7)), (5, (400000, 0)), (3, (350000, 5)), (0, (150000, 0)), (4, (400000, 1)), (5, (400000, 0)), (0, (50000, 0))]\n",
      "error:\n",
      "[(0, 369726.58683156886), (1, 6.0), (2, 1.5), (3, 50000.00001), (4, 0.0), (5, 0.0)]\n"
     ]
    }
   ],
   "source": [
    "kmeans(20, 120, means, vectors)"
   ]
  },
  {
   "cell_type": "markdown",
   "metadata": {},
   "source": [
    "Based on these initial means, and the provided variables converged method, implement the K-means algorithm by iteratively:\n",
    "\n",
    "pairing each vector with the index of the closest mean (its cluster);\n",
    "\n",
    "computing the new means by averaging the values of each cluster.\n",
    "\n",
    "To implement these iterative steps, use the provided functions findClosest, averageVectors, and euclideanDistance.\n",
    "\n",
    "Note 1:\n",
    "\n",
    "In our tests, convergence is reached after 44 iterations (for langSpread=50000) and in 104 iterations (for langSpread=1), and for the first iterations the distance kept growing. Although it may look like something is wrong, this is the expected behavior. Having many remote points forces the kernels to shift quite a bit and with each shift the effects ripple to other kernels, which also move around, and so on. Be patient, in 44 iterations the distance will drop from over 100000 to 13, satisfying the convergence condition.\n",
    "\n",
    "If you want to get the results faster, feel free to downsample the data (each iteration is faster, but it still takes around 40 steps to converge):\n",
    "\n",
    "val scored  = scoredPostings(grouped).sample(true, 0.1, 0)\n",
    "However, keep in mind that we will test your assignment on the full data set. So that means you can downsample for experimentation, but make sure your algorithm works on the full data set when you submit for grading.\n",
    "\n",
    "Note 2:\n",
    "\n",
    "The variable langSpread corresponds to how far away are languages from the clustering algorithm's point of view. For a value of 50000, the languages are too far away to be clustered together at all, resulting in a clustering that only takes scores into account for each language (similarly to partitioning the data across languages and then clustering based on the score). A more interesting (but less scientific) clustering occurs when langSpread is set to 1 (we can't set it to 0, as it loses language information completely), where we cluster according to the score. See which language dominates the top questions now?"
   ]
  },
  {
   "cell_type": "code",
   "execution_count": null,
   "metadata": {},
   "outputs": [],
   "source": [
    " https://github.com/seahrh/stackoverflow-spark\n",
    "        \n",
    " val lines   = sc.textFile(\"src/main/resources/stackoverflow/stackoverflow.csv\")  \n",
    "\n",
    "  val raw     = rawPostings(lines)  \n",
    "\n",
    "  val grouped = groupedPostings(raw)  \n",
    "\n",
    "  val scored  = scoredPostings(grouped)  \n",
    "\n",
    "  val vectors = vectorPostings(scored)\n",
    "    \n",
    "    lines: the lines from the csv file as strings\n",
    "\n",
    "raw: the raw Posting entries for each line\n",
    "\n",
    "grouped: questions and answers grouped together\n",
    "\n",
    "scored: questions and scores\n",
    "\n",
    "vectors: pairs of (language, score) for each question"
   ]
  }
 ],
 "metadata": {
  "kernelspec": {
   "display_name": "Python 3",
   "language": "python",
   "name": "python3"
  },
  "language_info": {
   "codemirror_mode": {
    "name": "ipython",
    "version": 3
   },
   "file_extension": ".py",
   "mimetype": "text/x-python",
   "name": "python",
   "nbconvert_exporter": "python",
   "pygments_lexer": "ipython3",
   "version": "3.6.3"
  }
 },
 "nbformat": 4,
 "nbformat_minor": 2
}
