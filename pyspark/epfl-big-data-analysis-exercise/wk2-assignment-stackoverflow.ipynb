{
 "cells": [
  {
   "cell_type": "markdown",
   "metadata": {},
   "source": [
    "# Clustering StackOverflow Q&A\n",
    "\n",
    "EPFL Big Data Analysis Week 2 Assignment\n",
    "https://www.coursera.org/learn/scala-spark-big-data/home/info\n",
    "\n",
    "\"The overall goal of this assignment is to implement a distributed k-means algorithm which clusters posts on the popular question-answer platform StackOverflow according to their score. Moreover, this clustering should be executed in parallel for different programming languages, and the results should be compared.\n",
    "\n",
    "The motivation is as follows: StackOverflow is an important source of documentation. However, different user-provided answers may have very different ratings (based on user votes) based on their perceived value. Therefore, we would like to look at the distribution of questions and their answers. For example, how many highly-rated answers do StackOverflow users post, and how high are their scores? Are there big differences between higher-rated answers and lower-rated ones?\"\n",
    "\n",
    "Data file download link: http://alaska.epfl.ch/~dockermoocs/bigdata/stackoverflow.csv\n",
    "\n",
    "**WORK IN PROGRESS**"
   ]
  },
  {
   "cell_type": "code",
   "execution_count": 1,
   "metadata": {},
   "outputs": [],
   "source": [
    "import time\n",
    "\n",
    "# Credits to Fahim Sakri \n",
    "# Source (https://medium.com/pythonhive/python-decorator-to-measure-the-execution-time-of-methods-fa04cb6bb36d)\n",
    "# An annotation for timing a python function\n",
    "def timeit(method):\n",
    "    def timed(*args, **kw):\n",
    "        ts = time.time()\n",
    "        result = method(*args, **kw)\n",
    "        te = time.time()\n",
    "        if 'log_time' in kw:\n",
    "            name = kw.get('log_name', method.__name__.upper())\n",
    "            kw['log_time'][name] = int((te - ts) * 1000)\n",
    "        else:\n",
    "            print (\"%r  %2.2f ms\" % (method.__name__, (te - ts) * 1000))\n",
    "        return result\n",
    "    return timed\n",
    "\n",
    "from post import Post"
   ]
  },
  {
   "cell_type": "code",
   "execution_count": 2,
   "metadata": {},
   "outputs": [],
   "source": [
    "## Setup\n",
    "from pyspark.sql import SparkSession\n",
    "from pyspark.sql import Row\n",
    "from pyspark import SparkConf, SparkContext\n",
    "import pandas as pd\n",
    "import numpy as np\n",
    "\n",
    "spark = SparkSession \\\n",
    "    .builder \\\n",
    "    .appName(\"EPFL Wk2 Assignment\") \\\n",
    "    .getOrCreate()\n",
    "        \n",
    "spark.conf.set(\"spark.executor.instances\", 1)\n",
    "spark.conf.set(\"spark.executor.cores\", 1)\n",
    "spark.conf.set(\"spark.cores.max\", 1)\n",
    "spark.sparkContext.addPyFile('post.py')\n",
    "\n",
    "# Create RDD\n",
    "data = spark.read.csv('/data/epfl-big-data-analysis/stackoverflow.csv', header=False, inferSchema=True)\n",
    "data = data.withColumnRenamed(\"_c0\", \"post_type_id\") # type 1 = question, type 2 = answer\n",
    "data = data.withColumnRenamed(\"_c1\", \"id\")\n",
    "data = data.withColumnRenamed(\"_c2\", \"acceptedAnswerId\")\n",
    "data = data.withColumnRenamed(\"_c3\", \"parentId\")\n",
    "data = data.withColumnRenamed(\"_c4\", \"score\")\n",
    "data = data.withColumnRenamed(\"_c5\", \"tag\")\n",
    "\n",
    "#data = pd.read_csv('/data/epfl-big-data-analysis/stackoverflow.csv', \n",
    "#                   names=[\"post_type_id\", \"id\", \"acceptedAnswerId\", \"parentId\", \"score\", \"tag\"],\n",
    "#                   dtype={'post_type_id': np.int64, 'score': np.float16})\n",
    "data_size = data.count()"
   ]
  },
  {
   "cell_type": "code",
   "execution_count": 3,
   "metadata": {},
   "outputs": [
    {
     "data": {
      "text/plain": [
       "[Row(tag='C#'),\n",
       " Row(tag='JavaScript'),\n",
       " Row(tag='Perl'),\n",
       " Row(tag=None),\n",
       " Row(tag='C++'),\n",
       " Row(tag='Groovy'),\n",
       " Row(tag='Objective-C'),\n",
       " Row(tag='CSS'),\n",
       " Row(tag='MATLAB'),\n",
       " Row(tag='Haskell'),\n",
       " Row(tag='Scala'),\n",
       " Row(tag='Clojure'),\n",
       " Row(tag='PHP'),\n",
       " Row(tag='Ruby'),\n",
       " Row(tag='Python'),\n",
       " Row(tag='Java')]"
      ]
     },
     "execution_count": 3,
     "metadata": {},
     "output_type": "execute_result"
    }
   ],
   "source": [
    "data.select('tag').distinct().collect()"
   ]
  },
  {
   "cell_type": "code",
   "execution_count": 10,
   "metadata": {},
   "outputs": [],
   "source": [
    "## Helper methods for clustering\n",
    "def euclideanDistanceSum(x1, y1, x2, y2):\n",
    "    dist = np.sqrt(np.square(np.subtract(px, x)) + np.square(np.subtract(py, y)))\n",
    "    return np.sum(dist)\n",
    "\n",
    "def findClosest(px, py, x, y):\n",
    "    dist = np.sqrt(np.square(np.subtract(px, x)) + np.square(np.subtract(py, y)))\n",
    "    return np.argmin(dist)\n",
    "\n",
    "#def averageVectors(x1, x2):\n",
    "#return np.av"
   ]
  },
  {
   "cell_type": "code",
   "execution_count": 77,
   "metadata": {},
   "outputs": [
    {
     "name": "stdout",
     "output_type": "stream",
     "text": [
      "[Row(post_type_id=1, id=27233496, acceptedAnswerId=None, parentId=None, score=0, tag='C#')]\n",
      "[None, 'Java', 'Python', 'JavaScript', 'CSS', 'C++', 'Objective-C', 'Ruby', 'PHP', 'C#']\n"
     ]
    }
   ],
   "source": [
    "posts = spark.sparkContext.parallelize(data.head(100)).filter(lambda p: p.tag is not None or p.post_type_id == 2)\n",
    "data_size = 100                                                 \n",
    "#langs = [\"JavaScript\", \"Java\", \"PHP\", \"Python\", \"C#\", \"C++\", \"Ruby\", \"CSS\",\n",
    "#\"Objective-C\", \"Perl\", \"Scala\", \"Haskell\", \"MATLAB\", \"Clojure\", \"Groovy\"]\n",
    "print(posts.take(1))\n",
    "#posts.filter(lambda p: p.post_type_id == 1)\n",
    "langs = posts.map(lambda p: p.tag).distinct().collect()\n",
    "print(langs)"
   ]
  },
  {
   "cell_type": "markdown",
   "metadata": {},
   "source": [
    "### Step 1 Preparation - Grouped posts by question\n",
    "First we use the map function to create kv pairs for each type of posts namely questions and answers.  \n",
    "Then a join operation is used for merging the two datasets.  A dataset `RDD[(QID, Iterable(Question, Answer))]` should be useful, the key is the ID of the question post and the values is a collection of tuple (Question, Answer)."
   ]
  },
  {
   "cell_type": "code",
   "execution_count": 78,
   "metadata": {},
   "outputs": [
    {
     "name": "stdout",
     "output_type": "stream",
     "text": [
      "[(27233496, Row(post_type_id=1, id=27233496, acceptedAnswerId=None, parentId=None, score=0, tag='C#'))]\n",
      "[(5484340, Row(post_type_id=2, id=5494879, acceptedAnswerId=None, parentId=5484340, score=1, tag=None))]\n",
      "[(21984912, <pyspark.resultiterable.ResultIterable object at 0x7fb31d7f8860>), (3627793, <pyspark.resultiterable.ResultIterable object at 0x7fb31d816630>)]\n"
     ]
    }
   ],
   "source": [
    "questions = posts.filter(lambda p: p.post_type_id == 1).map(lambda p: (p.id, p))\n",
    "answers = posts.filter(lambda p: p.post_type_id == 2).map(lambda p: (p.parentId, p))\n",
    "grouped = questions.join(answers).groupByKey() # Use inner join to exclude posts with no answers\n",
    "print(questions.take(1))\n",
    "print(answers.take(1))\n",
    "print(grouped.take(2))"
   ]
  },
  {
   "cell_type": "markdown",
   "metadata": {},
   "source": [
    "### Step 2 Calculate maximum answer score for each question\n",
    "Produce a set of key-value pairs - Key of the pair is the question and value should be the maximum answer score of the question.  The output is an `RDD[(Posting, Int)]`"
   ]
  },
  {
   "cell_type": "code",
   "execution_count": 79,
   "metadata": {},
   "outputs": [
    {
     "name": "stdout",
     "output_type": "stream",
     "text": [
      "[(Row(post_type_id=1, id=21984912, acceptedAnswerId=None, parentId=None, score=0, tag='Java'), 0), (Row(post_type_id=1, id=3627793, acceptedAnswerId=None, parentId=None, score=45, tag='Python'), 31)]\n"
     ]
    }
   ],
   "source": [
    "def post_max_scores(iterable):\n",
    "    max_score = -1\n",
    "    for pair in iterable:\n",
    "        question = pair[0]\n",
    "        answer_score = pair[1].score\n",
    "        if answer_score > max_score:\n",
    "            max_score = answer_score\n",
    "        return (question, max_score)\n",
    "\n",
    "post_scores = grouped.values().map(post_max_scores) #(post_max_score)\n",
    "print(post_scores.take(2))"
   ]
  },
  {
   "cell_type": "markdown",
   "metadata": {},
   "source": [
    "### Step 3 Create vectors for clustering\n",
    "Prepare the vectors as an input for clustering.  \n",
    "\n",
    "<br/>\n",
    "Index of the language (in the langs list) multiplied by the `langSpread` factor.\n",
    "\n",
    "The highest answer score (computed above).\n",
    "\n",
    "The `langSpread factor` is provided (set to 50000). Basically, it makes sure posts about different programming languages have at least distance 50000 using the distance measure provided by the euclideanDist function. You will learn later what this distance means and why it is set to this value. The output is `RDD[(Int, Int)]`"
   ]
  },
  {
   "cell_type": "code",
   "execution_count": 85,
   "metadata": {},
   "outputs": [
    {
     "name": "stdout",
     "output_type": "stream",
     "text": [
      "25\n",
      "[(50000, 0)]\n"
     ]
    }
   ],
   "source": [
    "langSpread = 50000\n",
    "\n",
    "vectors = post_scores.map(lambda s: (langs.index(s[0].tag)*langSpread, s[1]))\n",
    "print(vectors.count())\n",
    "print(vectors.take(1))"
   ]
  },
  {
   "cell_type": "code",
   "execution_count": 93,
   "metadata": {},
   "outputs": [
    {
     "name": "stdout",
     "output_type": "stream",
     "text": [
      "0.1\n",
      "{0: 0.1, 50000: 0.1, 100000: 0.1, 150000: 0.1, 200000: 0.1, 250000: 0.1, 300000: 0.1, 350000: 0.1, 400000: 0.1, 450000: 0.1}\n",
      "25\n",
      "4\n"
     ]
    },
    {
     "data": {
      "text/plain": [
       "[450000]"
      ]
     },
     "execution_count": 93,
     "metadata": {},
     "output_type": "execute_result"
    }
   ],
   "source": [
    "# K-means parameter: Number of clusters\n",
    "kmeansKernels = 3\n",
    "\n",
    "# K-means parameter: Convergence criteria\n",
    "kmeansEta = 20\n",
    "\n",
    "# K-means parameter: Maximum iterations\n",
    "kmeansMaxIterations = 120\n",
    "\n",
    "sample_ratio = 1/len(langs)#/len(langs)\n",
    "\n",
    "print(sample_ratio)\n",
    "fractions = dict([(langs.index(lang)*langSpread, 0.1) for lang in langs])\n",
    "sample_vectors = vectors.sampleByKey(False, fractions).head(kmeansKernels)\n",
    "print(fractions)\n",
    "print(vectors.count())\n",
    "print(sample_vectors.count())\n",
    "k.take(1)\n"
   ]
  },
  {
   "cell_type": "markdown",
   "metadata": {},
   "source": [
    " `val newMeans = means.clone # Copy the means\n",
    "    # For each vector find the closest centroids, once a cluster is formed, calculate average\n",
    "    val centroids = vectors.map {\n",
    "      v => (findClosest(v, means), v)\n",
    "    }.groupByKey().mapValues {\n",
    "      vs => averageVectors(vs)\n",
    "    }.collect()\n",
    "    \n",
    "    # Replace with new mean\n",
    "    for ((i, centroid) <- centroids) {\n",
    "      newMeans.update(i, centroid)\n",
    "    }\n",
    "\n",
    "    val distance = euclideanDistance(means, newMeans)\n",
    "\n",
    "    if (debug) {\n",
    "      println(s\"\"\"Iteration: $iter\n",
    "                 |  * current distance: $distance\n",
    "                 |  * desired distance: $kmeansEta\n",
    "                 |  * means:\"\"\".stripMargin)\n",
    "      for (idx <- 0 until kmeansKernels)\n",
    "        println(f\"   ${means(idx).toString}%20s ==> ${newMeans(idx).toString}%20s  \" +\n",
    "          f\"  distance: ${euclideanDistance(means(idx), newMeans(idx))}%8.0f\")\n",
    "    }\n",
    "\n",
    "    if (converged(distance)) {\n",
    "      newMeans\n",
    "    } else if (iter < kmeansMaxIterations) {\n",
    "      kmeans(newMeans, vectors, iter + 1, debug)\n",
    "    } else {\n",
    "      println(\"Reached max iterations!\")\n",
    "      newMeans\n",
    "    }`"
   ]
  },
  {
   "cell_type": "markdown",
   "metadata": {},
   "source": [
    "Based on these initial means, and the provided variables converged method, implement the K-means algorithm by iteratively:\n",
    "\n",
    "pairing each vector with the index of the closest mean (its cluster);\n",
    "\n",
    "computing the new means by averaging the values of each cluster.\n",
    "\n",
    "To implement these iterative steps, use the provided functions findClosest, averageVectors, and euclideanDistance.\n",
    "\n",
    "Note 1:\n",
    "\n",
    "In our tests, convergence is reached after 44 iterations (for langSpread=50000) and in 104 iterations (for langSpread=1), and for the first iterations the distance kept growing. Although it may look like something is wrong, this is the expected behavior. Having many remote points forces the kernels to shift quite a bit and with each shift the effects ripple to other kernels, which also move around, and so on. Be patient, in 44 iterations the distance will drop from over 100000 to 13, satisfying the convergence condition.\n",
    "\n",
    "If you want to get the results faster, feel free to downsample the data (each iteration is faster, but it still takes around 40 steps to converge):\n",
    "\n",
    "val scored  = scoredPostings(grouped).sample(true, 0.1, 0)\n",
    "However, keep in mind that we will test your assignment on the full data set. So that means you can downsample for experimentation, but make sure your algorithm works on the full data set when you submit for grading.\n",
    "\n",
    "Note 2:\n",
    "\n",
    "The variable langSpread corresponds to how far away are languages from the clustering algorithm's point of view. For a value of 50000, the languages are too far away to be clustered together at all, resulting in a clustering that only takes scores into account for each language (similarly to partitioning the data across languages and then clustering based on the score). A more interesting (but less scientific) clustering occurs when langSpread is set to 1 (we can't set it to 0, as it loses language information completely), where we cluster according to the score. See which language dominates the top questions now?"
   ]
  },
  {
   "cell_type": "code",
   "execution_count": null,
   "metadata": {},
   "outputs": [],
   "source": [
    " https://github.com/seahrh/stackoverflow-spark\n",
    "        \n",
    " val lines   = sc.textFile(\"src/main/resources/stackoverflow/stackoverflow.csv\")  \n",
    "\n",
    "  val raw     = rawPostings(lines)  \n",
    "\n",
    "  val grouped = groupedPostings(raw)  \n",
    "\n",
    "  val scored  = scoredPostings(grouped)  \n",
    "\n",
    "  val vectors = vectorPostings(scored)\n",
    "    \n",
    "    lines: the lines from the csv file as strings\n",
    "\n",
    "raw: the raw Posting entries for each line\n",
    "\n",
    "grouped: questions and answers grouped together\n",
    "\n",
    "scored: questions and scores\n",
    "\n",
    "vectors: pairs of (language, score) for each question"
   ]
  }
 ],
 "metadata": {
  "kernelspec": {
   "display_name": "Python 3",
   "language": "python",
   "name": "python3"
  },
  "language_info": {
   "codemirror_mode": {
    "name": "ipython",
    "version": 3
   },
   "file_extension": ".py",
   "mimetype": "text/x-python",
   "name": "python",
   "nbconvert_exporter": "python",
   "pygments_lexer": "ipython3",
   "version": "3.6.3"
  }
 },
 "nbformat": 4,
 "nbformat_minor": 2
}
