{
 "cells": [
  {
   "cell_type": "markdown",
   "metadata": {},
   "source": [
    "# EPFL Big Data Analysis Week 1 Assignment\n",
    "\n",
    "## Objective\n",
    "Produce a rudimentary metric using Wikipedia articles to provide a popularity ranking for programming languages.  \n",
    "Determine whether this ranking bear any relation to the popular Red Monk ranking.\n",
    "\n",
    "## Steps\n",
    "1. The file wikipedia.dat contains full text articles from Wikipedia.  Read in the source data as a distributed dataset\n",
    "2. Produce a simple metric - this simple metric is a ranking based on the number of articles that mention the language at least once\n",
    "3. Create an inverted index - maps the language name to the collection of Wikipedia articles mentioned that language"
   ]
  },
  {
   "cell_type": "code",
   "execution_count": 1,
   "metadata": {},
   "outputs": [
    {
     "name": "stdout",
     "output_type": "stream",
     "text": [
      "<class 'list'>\n"
     ]
    }
   ],
   "source": [
    "## Helper definitions and classes\n",
    "\n",
    "langs = [\"JavaScript\", \"Java\", \"PHP\", \"Python\", \"C#\", \"C++\", \"Ruby\", \"CSS\",\n",
    "    \"Objective-C\", \"Perl\", \"Scala\", \"Haskell\", \"MATLAB\", \"Clojure\", \"Groovy\"]\n",
    "\n",
    "class WikiArticle:\n",
    "    def __init__(self, title, text):\n",
    "        self.title = title\n",
    "        self.text = text\n",
    "        \n",
    "def readWikiArticle(filepath):\n",
    "    subs = \"</title><text>\"\n",
    "    l = len(subs)\n",
    "    articles = []\n",
    "    with open(filepath) as f:\n",
    "         for line in f:\n",
    "            i = int(line.find(subs))\n",
    "            title = line[14:i]\n",
    "            text  = line[i + l: l-16]\n",
    "            articles.append(WikiArticle(title, text))\n",
    "    return articles\n",
    "\n",
    "data = [a.text for a in readWikiArticle('/data/epfl-big-data-analysis/wikipedia.dat')]\n",
    "print(type(data))"
   ]
  },
  {
   "cell_type": "code",
   "execution_count": null,
   "metadata": {},
   "outputs": [],
   "source": [
    "any('Taxobox' in s for s in data[0].split())"
   ]
  },
  {
   "cell_type": "code",
   "execution_count": 2,
   "metadata": {},
   "outputs": [
    {
     "data": {
      "text/plain": [
       "pyspark.rdd.RDD"
      ]
     },
     "execution_count": 2,
     "metadata": {},
     "output_type": "execute_result"
    }
   ],
   "source": [
    "## Setup\n",
    "from pyspark.sql import SparkSession\n",
    "from pyspark.sql import Row\n",
    "\n",
    "spark = SparkSession \\\n",
    "    .builder \\\n",
    "    .appName(\"EPFL Wk1 Assignment\") \\\n",
    "    .getOrCreate()\n",
    "\n",
    "# Create an RDD\n",
    "articles = spark.sparkContext.parallelize(data[:10])\n",
    "type(articles)\n"
   ]
  },
  {
   "cell_type": "code",
   "execution_count": 18,
   "metadata": {},
   "outputs": [
    {
     "name": "stdout",
     "output_type": "stream",
     "text": [
      "10\n",
      "True\n",
      "1\n",
      "None\n"
     ]
    }
   ],
   "source": [
    "### Implement the simple metrics\n",
    "\n",
    "# Count the number of articles that menioned a language at least once\n",
    "# Implementation 1:\n",
    "# This implementation will materialise count immediately, \n",
    "# instead we prefer to defer the operation since this is not the final results we want\n",
    "def occurrencesOfLangUsingCount(lang, articlesRDD):\n",
    "    articlesRDD.filter(lambda a: any(lang in s for s in a.split())).count()\n",
    "\n",
    "# Implementation 2: Count using aggregate (recommended by course instructor)\n",
    "# Aggregate is used because we want to return int not the article\n",
    "def occurencesOfLang(lang, articlesRDD):\n",
    "    articlesRDD.aggregate(0, lambda acc, a: acc + mentionedLang(lang, a), lambda acc1, acc2: acc1 + acc2)\n",
    "\n",
    "def mentionedLang(lang, article):\n",
    "    return any(lang in s for s in article.split())\n",
    "\n",
    "print(articles.count())\n",
    "# Test the langSearch function locally\n",
    "print(mentionedLang('Taxobox', data[0]))\n",
    "\n",
    "print(articles.filter(lambda a: mentionedLang('Taxobox', a)).count())\n",
    "print(occurrencesOfLangUsingCount('Taxobox', articles)) # Not working"
   ]
  },
  {
   "cell_type": "code",
   "execution_count": null,
   "metadata": {},
   "outputs": [],
   "source": [
    "# Return a list of pairs (k, v) where k is the language \n",
    "# and v is the count of articles mentioned that language\n",
    "# sorted in descending order of count\n",
    "def rankLangs():\n",
    "    langs"
   ]
  }
 ],
 "metadata": {
  "kernelspec": {
   "display_name": "Python 3",
   "language": "python",
   "name": "python3"
  },
  "language_info": {
   "codemirror_mode": {
    "name": "ipython",
    "version": 3
   },
   "file_extension": ".py",
   "mimetype": "text/x-python",
   "name": "python",
   "nbconvert_exporter": "python",
   "pygments_lexer": "ipython3",
   "version": "3.6.3"
  }
 },
 "nbformat": 4,
 "nbformat_minor": 2
}
