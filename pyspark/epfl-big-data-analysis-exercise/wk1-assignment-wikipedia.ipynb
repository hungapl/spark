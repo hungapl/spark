{
 "cells": [
  {
   "cell_type": "markdown",
   "metadata": {},
   "source": [
    "# EPFL Big Data Analysis Week 1 Assignment\n",
    "\n",
    "## Objective\n",
    "Produce a rudimentary metric using Wikipedia articles to provide a popularity ranking for programming languages.  \n",
    "Determine whether this ranking bear any relation to the popular Red Monk ranking.\n",
    "\n",
    "## Steps\n",
    "1. The file wikipedia.dat contains full text articles from Wikipedia.  Read in the source data as a distributed dataset\n",
    "2. Produce a simple metric - this simple metric is a ranking based on the number of articles that mention the language at least once\n",
    "3. Create an inverted index - maps the language name to the collection of Wikipedia articles mentioned that language"
   ]
  },
  {
   "cell_type": "code",
   "execution_count": 1,
   "metadata": {},
   "outputs": [],
   "source": [
    "import time \n",
    "\n",
    "# Credits to Fahim Sakri \n",
    "# Source (https://medium.com/pythonhive/python-decorator-to-measure-the-execution-time-of-methods-fa04cb6bb36d)\n",
    "# An annotation for timing a python function\n",
    "def timeit(method):\n",
    "    def timed(*args, **kw):\n",
    "        ts = time.time()\n",
    "        result = method(*args, **kw)\n",
    "        te = time.time()\n",
    "        if 'log_time' in kw:\n",
    "            name = kw.get('log_name', method.__name__.upper())\n",
    "            kw['log_time'][name] = int((te - ts) * 1000)\n",
    "        else:\n",
    "            print (\"%r  %2.2f ms\" % (method.__name__, (te - ts) * 1000))\n",
    "        return result\n",
    "    return timed\n"
   ]
  },
  {
   "cell_type": "code",
   "execution_count": 51,
   "metadata": {},
   "outputs": [
    {
     "name": "stdout",
     "output_type": "stream",
     "text": [
      "z1542\n",
      "4086\n",
      "True\n",
      "True\n",
      "True\n"
     ]
    }
   ],
   "source": [
    "## Constants and Helper functions\n",
    "\n",
    "langs = [\"JavaScript\", \"Java\", \"PHP\", \"Python\", \"C#\", \"C++\", \"Ruby\", \"CSS\",\n",
    "    \"Objective-C\", \"Perl\", \"Scala\", \"Haskell\", \"MATLAB\", \"Clojure\", \"Groovy\"]\n",
    "\n",
    "class WikiArticle:\n",
    "    def __init__(self, title, text):\n",
    "        self.title = title\n",
    "        self.text = text\n",
    "        \n",
    "def readWikiArticle(filepath):\n",
    "    subs = \"</title><text>\"\n",
    "    l = len(subs)\n",
    "    articles = []\n",
    "    z = 0\n",
    "    with open(filepath) as f:\n",
    "         for line in f:\n",
    "            i = int(line.find(subs))\n",
    "            title = line[14:i]\n",
    "            text  = line[(i + l): (len(line)-17)]\n",
    "            if (\"Across the many fields\" in text):\n",
    "                print (\"z\" + str(z))\n",
    "            z = z + 1\n",
    "            articles.append(WikiArticle(title, text))\n",
    "    return articles\n",
    "\n",
    "\n",
    "data = [a.text for a in readWikiArticle('/data/epfl-big-data-analysis/wikipedia.dat')]\n",
    "print(len(data))\n",
    "print(any(\"JavaScript\" in s for s in data[1542].split()))\n",
    "print(\"small\" in \"smalla\")\n",
    "print(mentionedLang('Javascript', data[1542]))"
   ]
  },
  {
   "cell_type": "code",
   "execution_count": 54,
   "metadata": {},
   "outputs": [
    {
     "data": {
      "text/plain": [
       "pyspark.rdd.RDD"
      ]
     },
     "execution_count": 54,
     "metadata": {},
     "output_type": "execute_result"
    }
   ],
   "source": [
    "## Setup\n",
    "from pyspark.sql import SparkSession\n",
    "from pyspark.sql import Row\n",
    "\n",
    "spark = SparkSession \\\n",
    "    .builder \\\n",
    "    .appName(\"EPFL Wk1 Assignment\") \\\n",
    "    .getOrCreate()\n",
    "\n",
    "# Create an RDD\n",
    "articles = spark.sparkContext.parallelize(data[1200:1600])\n",
    "type(articles)"
   ]
  },
  {
   "cell_type": "code",
   "execution_count": 57,
   "metadata": {},
   "outputs": [
    {
     "name": "stdout",
     "output_type": "stream",
     "text": [
      "First article contains the word Taxobox:True\n",
      "Test addition using boolean:1\n"
     ]
    }
   ],
   "source": [
    "# True if the article mentioned lang, otherwise false\n",
    "def mentionedLang(lang, article):\n",
    "    return any(lang in s for s in article.split())\n",
    "\n",
    "# Test the helper functions in driver program\n",
    "print(\"First article contains the word Taxobox:\" + str(mentionedLang('Taxobox', data[0])))\n",
    "\n",
    "print(\"Test addition using boolean:\" + str(0 + mentionedLang('Taxobox', data[0])))"
   ]
  },
  {
   "cell_type": "code",
   "execution_count": 58,
   "metadata": {},
   "outputs": [
    {
     "data": {
      "text/plain": [
       "17"
      ]
     },
     "execution_count": 58,
     "metadata": {},
     "output_type": "execute_result"
    }
   ],
   "source": [
    "articles.filter(lambda a: mentionedLang(\"JavaScript\", a)).count()\n",
    "articles.aggregate(0, lambda acc, a: acc + mentionedLang(\"JavaScript\", a), lambda acc1, acc2: acc1 + acc2)"
   ]
  },
  {
   "cell_type": "code",
   "execution_count": 64,
   "metadata": {},
   "outputs": [
    {
     "name": "stdout",
     "output_type": "stream",
     "text": [
      "Counting JavaScript\n",
      "17\n",
      "17\n",
      "Counting Java\n",
      "17\n",
      "17\n",
      "Counting PHP\n",
      "5\n",
      "5\n",
      "Counting Python\n",
      "1\n",
      "1\n",
      "Counting C#\n",
      "0\n",
      "0\n",
      "Counting C++\n",
      "3\n",
      "3\n",
      "Counting Ruby\n",
      "2\n",
      "2\n",
      "Counting CSS\n",
      "3\n",
      "3\n",
      "Counting Objective-C\n",
      "0\n",
      "0\n",
      "Counting Perl\n",
      "1\n",
      "1\n",
      "Counting Scala\n",
      "0\n",
      "0\n",
      "Counting Haskell\n",
      "1\n",
      "1\n",
      "Counting MATLAB\n",
      "1\n",
      "1\n",
      "Counting Clojure\n",
      "0\n",
      "0\n",
      "Counting Groovy\n",
      "0\n",
      "0\n"
     ]
    }
   ],
   "source": [
    "#@timeit\n",
    "def occurrencesOfLangAggregate(lang, articles):\n",
    "    return articles.aggregate(0, lambda acc, a: acc + mentionedLang(lang, a), lambda acc1, acc2: acc1 + acc2)\n",
    "    \n",
    "#@timeit\n",
    "def occurrencesOfLangCount(lang, articles):\n",
    "    return articles.filter(lambda a: mentionedLang(lang, a)).count()\n",
    "\n",
    "# Testing performance per call\n",
    "for l in langs:\n",
    "    print('Counting ' + l)\n",
    "    print(occurrencesOfLangAggregate(l, articles))\n",
    "    print(occurrencesOfLangCount(l, articles))"
   ]
  },
  {
   "cell_type": "code",
   "execution_count": 73,
   "metadata": {
    "scrolled": true
   },
   "outputs": [
    {
     "name": "stdout",
     "output_type": "stream",
     "text": [
      "'rankLangsBaseline'  27196.28 ms\n",
      "'rankLangsBaselineSpark'  1044.83 ms\n",
      "[('JavaScript', 17), ('Java', 17), ('PHP', 5), ('C++', 3), ('CSS', 3), ('Ruby', 2), ('Python', 1), ('Perl', 1), ('Haskell', 1), ('MATLAB', 1), ('C#', 0), ('Objective-C', 0), ('Scala', 0), ('Clojure', 0), ('Groovy', 0)]\n"
     ]
    }
   ],
   "source": [
    "# Return a list of pairs (k, v) where k is the language \n",
    "# and v is the count of articles mentioned that language\n",
    "# sorted in descending order of count\n",
    "\n",
    "@timeit\n",
    "def rankLangsBaseline(langs, data):\n",
    "    result = []\n",
    "    for l in langs:\n",
    "        result.append((l, sum(mentionedLang(l, a) for a in data)))\n",
    "    result.sort(key=lambda t: t[1], reverse=True)\n",
    "    return result\n",
    "result = rankLangsBaseline(langs, data)\n",
    "print(result)\n",
    "\n",
    "@timeit\n",
    "def rankLangsBaselineSpark(langs, articles):\n",
    "    result = []\n",
    "    for l in langs:\n",
    "        result.append((l, occurrencesOfLangCount(l, articles)))\n",
    "    result.sort(key=lambda t: t[1], reverse=True)\n",
    "    return result\n",
    "result = rankLangsBaselineSpark(langs, articles)\n",
    "print(result)\n"
   ]
  },
  {
   "cell_type": "code",
   "execution_count": 96,
   "metadata": {},
   "outputs": [
    {
     "name": "stdout",
     "output_type": "stream",
     "text": [
      "'rankLangsUsingReduceByKey'  355.76 ms\n",
      "[('JavaScript', 17), ('Java', 17), ('Python', 1), ('CSS', 3), ('Groovy', 0), ('C++', 3), ('Objective-C', 0), ('Haskell', 1), ('Ruby', 2), ('Scala', 0), ('MATLAB', 1), ('Clojure', 0), ('PHP', 5), ('Perl', 1), ('C#', 0)]\n"
     ]
    }
   ],
   "source": [
    "def occurred(langs, a):    \n",
    "   return [(l, int(mentionedLang(l, a))) for l in langs]\n",
    "        \n",
    "@timeit\n",
    "def rankLangsUsingReduceByKey(langs, articles):\n",
    "    return articles.flatMap(lambda a: occurred(langs, a)).reduceByKey(lambda c1, c2: c1 + c2).collect()\n",
    "print(rankLangsUsingReduceByKey(langs, articles))"
   ]
  }
 ],
 "metadata": {
  "kernelspec": {
   "display_name": "Python 3",
   "language": "python",
   "name": "python3"
  },
  "language_info": {
   "codemirror_mode": {
    "name": "ipython",
    "version": 3
   },
   "file_extension": ".py",
   "mimetype": "text/x-python",
   "name": "python",
   "nbconvert_exporter": "python",
   "pygments_lexer": "ipython3",
   "version": "3.6.3"
  }
 },
 "nbformat": 4,
 "nbformat_minor": 2
}
