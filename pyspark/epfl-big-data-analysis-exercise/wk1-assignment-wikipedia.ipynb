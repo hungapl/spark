{
 "cells": [
  {
   "cell_type": "markdown",
   "metadata": {},
   "source": [
    "# Popularity ranking for Programming Languages based on presences in Wikipedia articles\n",
    "\n",
    "EPFL Big Data Analysis Week 1 Assignment\n",
    "https://www.coursera.org/learn/scala-spark-big-data/home/info\n",
    "\n",
    "The objective of the assignment is to produce a rudimentary metric using Wikipedia articles to provide a popularity ranking for programming languages using Scala and Spark.  Here, I have attempted the exercise using PySpark.  \n",
    "\n",
    "Data file download link: http://alaska.epfl.ch/~dockermoocs/bigdata/wikipedia.dat"
   ]
  },
  {
   "cell_type": "code",
   "execution_count": 1,
   "metadata": {},
   "outputs": [],
   "source": [
    "import time \n",
    "\n",
    "# Credits to Fahim Sakri \n",
    "# Source (https://medium.com/pythonhive/python-decorator-to-measure-the-execution-time-of-methods-fa04cb6bb36d)\n",
    "# An annotation for timing a python function\n",
    "def timeit(method):\n",
    "    def timed(*args, **kw):\n",
    "        ts = time.time()\n",
    "        result = method(*args, **kw)\n",
    "        te = time.time()\n",
    "        if 'log_time' in kw:\n",
    "            name = kw.get('log_name', method.__name__.upper())\n",
    "            kw['log_time'][name] = int((te - ts) * 1000)\n",
    "        else:\n",
    "            print (\"%r  %2.2f ms\" % (method.__name__, (te - ts) * 1000))\n",
    "        return result\n",
    "    return timed\n"
   ]
  },
  {
   "cell_type": "code",
   "execution_count": 2,
   "metadata": {},
   "outputs": [
    {
     "name": "stdout",
     "output_type": "stream",
     "text": [
      "z1542\n",
      "4086\n"
     ]
    }
   ],
   "source": [
    "## Constants and Helper functions\n",
    "\n",
    "langs = [\"JavaScript\", \"Java\", \"PHP\", \"Python\", \"C#\", \"C++\", \"Ruby\", \"CSS\",\n",
    "    \"Objective-C\", \"Perl\", \"Scala\", \"Haskell\", \"MATLAB\", \"Clojure\", \"Groovy\"]\n",
    "\n",
    "class WikiArticle:\n",
    "    def __init__(self, title, text):\n",
    "        self.title = title\n",
    "        self.text = text\n",
    "        \n",
    "def readWikiArticle(filepath):\n",
    "    subs = \"</title><text>\"\n",
    "    l = len(subs)\n",
    "    articles = []\n",
    "    z = 0\n",
    "    with open(filepath) as f:\n",
    "         for line in f:\n",
    "            i = int(line.find(subs))\n",
    "            title = line[14:i]\n",
    "            text  = line[(i + l): (len(line)-17)]\n",
    "            if (\"Across the many fields\" in text):\n",
    "            z = z + 1\n",
    "            articles.append(WikiArticle(title, text))\n",
    "    return articles\n",
    "\n",
    "\n",
    "data = [a.text for a in readWikiArticle('/data/epfl-big-data-analysis/wikipedia.dat')]\n",
    "print(len(data))"
   ]
  },
  {
   "cell_type": "code",
   "execution_count": 4,
   "metadata": {},
   "outputs": [],
   "source": [
    "## Setup\n",
    "from pyspark.sql import SparkSession\n",
    "from pyspark.sql import Row\n",
    "from pyspark import SparkConf, SparkContext\n",
    "\n",
    "spark = SparkSession \\\n",
    "    .builder \\\n",
    "    .appName(\"EPFL Wk1 Assignment\") \\\n",
    "    .getOrCreate()\n",
    "        \n",
    "spark.conf.set(\"spark.executor.instances\", 1)\n",
    "spark.conf.set(\"spark.executor.cores\", 1)\n",
    "spark.conf.set(\"spark.cores.max\", 1)\n",
    "\n",
    "# Create RDD\n",
    "some = data[1000:2000]\n",
    "some_articles = spark.sparkContext.parallelize(some)\n",
    "articles = spark.sparkContext.parallelize(data)"
   ]
  },
  {
   "cell_type": "code",
   "execution_count": 5,
   "metadata": {},
   "outputs": [],
   "source": [
    "my_data = data\n",
    "my_articles = articles"
   ]
  },
  {
   "cell_type": "code",
   "execution_count": 6,
   "metadata": {},
   "outputs": [
    {
     "name": "stdout",
     "output_type": "stream",
     "text": [
      "First article contains the word Taxobox:True\n",
      "Test addition using boolean:1\n"
     ]
    }
   ],
   "source": [
    "# True if the article mentioned lang, otherwise false\n",
    "def mentionedLang(lang, article):\n",
    "    return any(lang in s for s in article.split())\n",
    "\n",
    "# Test the helper functions in driver program\n",
    "print(\"First article contains the word Taxobox:\" + str(mentionedLang('Taxobox', data[0])))\n",
    "\n",
    "print(\"Test addition using boolean:\" + str(0 + mentionedLang('Taxobox', data[0])))"
   ]
  },
  {
   "cell_type": "code",
   "execution_count": 7,
   "metadata": {},
   "outputs": [
    {
     "name": "stdout",
     "output_type": "stream",
     "text": [
      "'rankLangsBaseline'  26665.69 ms\n",
      "[('Java', 2017), ('JavaScript', 1738), ('C#', 849), ('CSS', 555), ('C++', 554), ('Python', 545), ('PHP', 452), ('MATLAB', 324), ('Perl', 300), ('Ruby', 287), ('Scala', 161), ('Haskell', 128), ('Objective-C', 112), ('Clojure', 60), ('Groovy', 55)]\n",
      "'rankLangsBaselineSpark'  13319.24 ms\n",
      "[('Java', 2017), ('JavaScript', 1738), ('C#', 849), ('CSS', 555), ('C++', 554), ('Python', 545), ('PHP', 452), ('MATLAB', 324), ('Perl', 300), ('Ruby', 287), ('Scala', 161), ('Haskell', 128), ('Objective-C', 112), ('Clojure', 60), ('Groovy', 55)]\n"
     ]
    }
   ],
   "source": [
    "# Baseline for providing a count of articles for each language sorted in descending order of count (ranking)\n",
    "def occurrencesOfLangAggregate(lang, articles):\n",
    "    return articles.aggregate(0, lambda acc, a: acc + mentionedLang(lang, a), lambda acc1, acc2: acc1 + acc2)\n",
    "    \n",
    "def occurrencesOfLangCount(lang, articles):\n",
    "    return articles.filter(lambda a: mentionedLang(lang, a)).count()\n",
    "\n",
    "# using for loop\n",
    "@timeit\n",
    "def rankLangsBaseline(langs, data):\n",
    "    result = []\n",
    "    for l in langs:\n",
    "        result.append((l, sum(mentionedLang(l, a) for a in data)))\n",
    "    result.sort(key=lambda t: t[1], reverse=True)\n",
    "    return result\n",
    "\n",
    "@timeit\n",
    "def rankLangsBaselineSpark(langs, articles):\n",
    "    result = []\n",
    "    for l in langs:\n",
    "        result.append((l, occurrencesOfLangCount(l, articles)))\n",
    "    result.sort(key=lambda t: t[1], reverse=True)\n",
    "    return result\n",
    "\n",
    "print(rankLangsBaseline(langs, my_data))\n",
    "print(rankLangsBaselineSpark(langs, my_articles))"
   ]
  },
  {
   "cell_type": "markdown",
   "metadata": {},
   "source": [
    "`'rankLangsBaseline'  26665.69 ms\n",
    "[('Java', 2017), ('JavaScript', 1738), ('C#', 849), ('CSS', 555), ('C++', 554), ('Python', 545), ('PHP', 452), ('MATLAB', 324), ('Perl', 300), ('Ruby', 287), ('Scala', 161), ('Haskell', 128), ('Objective-C', 112), ('Clojure', 60), ('Groovy', 55)]\n",
    "'rankLangsBaselineSpark'  13319.24 ms\n",
    "[('Java', 2017), ('JavaScript', 1738), ('C#', 849), ('CSS', 555), ('C++', 554), ('Python', 545), ('PHP', 452), ('MATLAB', 324), ('Perl', 300), ('Ruby', 287), ('Scala', 161), ('Haskell', 128), ('Objective-C', 112), ('Clojure', 60), ('Groovy', 55)]`"
   ]
  },
  {
   "cell_type": "code",
   "execution_count": 9,
   "metadata": {},
   "outputs": [
    {
     "name": "stdout",
     "output_type": "stream",
     "text": [
      "'rankLangsUsingIndex'  8956.59 ms\n",
      "[('Java', 2017), ('JavaScript', 1738), ('C#', 849), ('CSS', 555), ('C++', 554), ('Python', 545), ('PHP', 452), ('MATLAB', 324), ('Perl', 300), ('Ruby', 287), ('Scala', 161), ('Haskell', 128), ('Objective-C', 112), ('Clojure', 60), ('Groovy', 55)]\n"
     ]
    }
   ],
   "source": [
    "# Attempt 2 - Second approach of calculating the ranking using an inverted index\n",
    "\n",
    "# Step 1: Computed an inverted index that maps the language to a list (Iterable) \n",
    "# of wikipedia articles mentioning that language, result should be of type RDD[(String, Iterable[WikipediaArticle])]\n",
    "# Hint, use flatMap and groupByKey\n",
    "\n",
    "def mentionedInArticle(langs, a):    \n",
    "   return [(l, a) for l in langs if mentionedLang(l, a)]\n",
    "\n",
    "@timeit\n",
    "def rankLangsUsingIndex(langs, articles):\n",
    "    return articles \\\n",
    "    .flatMap(lambda a: mentionedInArticle(langs, a)) \\\n",
    "    .filter(lambda x: x != []) \\\n",
    "    .groupByKey() \\\n",
    "    .mapValues(len) \\\n",
    "    .sortBy(lambda a: a[1], ascending=False) \\\n",
    "    .collect()\n",
    "\n",
    "print(rankLangsUsingIndex(langs, my_articles))"
   ]
  },
  {
   "cell_type": "markdown",
   "metadata": {},
   "source": [
    "`'rankLangsUsingIndex'  8956.59 ms\n",
    "[('Java', 2017), ('JavaScript', 1738), ('C#', 849), ('CSS', 555), ('C++', 554), ('Python', 545), ('PHP', 452), ('MATLAB', 324), ('Perl', 300), ('Ruby', 287), ('Scala', 161), ('Haskell', 128), ('Objective-C', 112), ('Clojure', 60), ('Groovy', 55)]`"
   ]
  },
  {
   "cell_type": "code",
   "execution_count": 10,
   "metadata": {},
   "outputs": [
    {
     "name": "stdout",
     "output_type": "stream",
     "text": [
      "'rankLangsUsingIndex'  8529.96 ms\n",
      "[('Java', 2017), ('JavaScript', 1738), ('C#', 849), ('CSS', 555), ('C++', 554), ('Python', 545), ('PHP', 452), ('MATLAB', 324), ('Perl', 300), ('Ruby', 287), ('Scala', 161), ('Haskell', 128), ('Objective-C', 112), ('Clojure', 60), ('Groovy', 55)]\n"
     ]
    }
   ],
   "source": [
    "# Attempt 3 - Use reduceByKey\n",
    "def mentioned(langs, a):    \n",
    "   return [(l, int(mentionedLang(l, a))) for l in langs]\n",
    "        \n",
    "@timeit\n",
    "def rankLangsReduceByKey(langs, articles):\n",
    "    return articles \\\n",
    "    .flatMap(lambda a: mentioned(langs, a)) \\\n",
    "    .reduceByKey(lambda c1, c2: c1 + c2) \\\n",
    "    .sortBy(lambda a: a[1], ascending=False) \\\n",
    "    .collect()\n",
    "\n",
    "print(rankLangsUsingIndex(langs, my_articles))"
   ]
  },
  {
   "cell_type": "code",
   "execution_count": null,
   "metadata": {},
   "outputs": [],
   "source": [
    "`'rankLangsUsingIndex'  8529.96 ms\n",
    "[('Java', 2017), ('JavaScript', 1738), ('C#', 849), ('CSS', 555), ('C++', 554), ('Python', 545), ('PHP', 452), ('MATLAB', 324), ('Perl', 300), ('Ruby', 287), ('Scala', 161), ('Haskell', 128), ('Objective-C', 112), ('Clojure', 60), ('Groovy', 55)]`"
   ]
  }
 ],
 "metadata": {
  "kernelspec": {
   "display_name": "Python 3",
   "language": "python",
   "name": "python3"
  },
  "language_info": {
   "codemirror_mode": {
    "name": "ipython",
    "version": 3
   },
   "file_extension": ".py",
   "mimetype": "text/x-python",
   "name": "python",
   "nbconvert_exporter": "python",
   "pygments_lexer": "ipython3",
   "version": "3.6.3"
  }
 },
 "nbformat": 4,
 "nbformat_minor": 2
}
