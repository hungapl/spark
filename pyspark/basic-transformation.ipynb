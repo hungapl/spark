{
 "cells": [
  {
   "cell_type": "code",
   "execution_count": 27,
   "metadata": {},
   "outputs": [
    {
     "name": "stdout",
     "output_type": "stream",
     "text": [
      "StructType(List(StructField(title,StringType,true),StructField(author,StringType,true),StructField(type,StringType,true),StructField(price,IntegerType,true)))\n",
      "+------------------+---------+--------+-----+\n",
      "|             title|   author|    type|price|\n",
      "+------------------+---------+--------+-----+\n",
      "|      Where's Spot|Eric Hill|Children|   10|\n",
      "|The Cat In The Hat|Dr. Seuss|Children|   15|\n",
      "+------------------+---------+--------+-----+\n",
      "\n"
     ]
    }
   ],
   "source": [
    "# Based on Spark 2.3.0 Doc https://spark.apache.org/docs/latest/rdd-programming-guide.html\n",
    "\n",
    "from pyspark.sql import SparkSession\n",
    "from pyspark.sql import Row\n",
    "\n",
    "spark = SparkSession \\\n",
    "    .builder \\\n",
    "    .appName(\"Python Spark SQL basic example\") \\\n",
    "    .getOrCreate()\n",
    "    \n",
    "data = spark.read.csv(\"books.csv\", header=True, inferSchema=True)\n",
    "print(data.schema)\n",
    "data.show()\n",
    "\n",
    "books = data.rdd"
   ]
  },
  {
   "cell_type": "code",
   "execution_count": 21,
   "metadata": {},
   "outputs": [
    {
     "name": "stdout",
     "output_type": "stream",
     "text": [
      "<class 'list'>\n",
      "[\"Where's Spot by Eric Hill\", 'The Cat In The Hat by Dr. Seuss']\n"
     ]
    }
   ],
   "source": [
    "# Map - apply a function to each element and return an RDD\n",
    "results = books.map(lambda b: b.title + \" by \" + b.author).collect()\n",
    "print(type(results))\n",
    "print(results)"
   ]
  },
  {
   "cell_type": "code",
   "execution_count": 19,
   "metadata": {},
   "outputs": [
    {
     "name": "stdout",
     "output_type": "stream",
     "text": [
      "<class 'list'>\n",
      "[\"Where's\", 'Spot', 'The', 'Cat', 'In', 'The', 'Hat']\n"
     ]
    }
   ],
   "source": [
    "# FlatMap - return a collection of the iterables returned by the function\n",
    "results = books.flatMap(lambda b: b.title.split(' ')).collect()\n",
    "print(type(results))\n",
    "print(results)"
   ]
  },
  {
   "cell_type": "code",
   "execution_count": 28,
   "metadata": {},
   "outputs": [
    {
     "name": "stdout",
     "output_type": "stream",
     "text": [
      "<class 'list'>\n",
      "[Row(title='The Cat In The Hat', author='Dr. Seuss', type='Children', price=15)]\n"
     ]
    }
   ],
   "source": [
    "results = books.filter(lambda b: b.price > 12).collect()\n",
    "print(type(results))\n",
    "print(results)"
   ]
  },
  {
   "cell_type": "markdown",
   "metadata": {},
   "source": [
    "# Key Value Pair transformations"
   ]
  },
  {
   "cell_type": "code",
   "execution_count": null,
   "metadata": {},
   "outputs": [],
   "source": [
    "# groupByKey() - returns (K, Iterable<V>).  \n",
    "# If the purpose of grouping is to perform an aggregation, use reduceByKey() instead"
   ]
  },
  {
   "cell_type": "code",
   "execution_count": null,
   "metadata": {},
   "outputs": [],
   "source": [
    "# reduceByKey() - returns (K, U)\n",
    "\n",
    "# Create key value pair and use reduceByKey to perform a group by count\n",
    "kv = books.map(lambda b: (b.type, 1)) # Create key value pair\n",
    "countsRDD = kv.reduceByKey(lambda v1, v2: v1 + v2) # Nothing will be performed until an action is called\n",
    "print(type(countsRDD))\n",
    "print(countsRDD) # This is only a reference\n",
    "\n",
    "counts = countsRDD.collect()\n",
    "print(type(counts))\n",
    "print(counts)"
   ]
  },
  {
   "cell_type": "code",
   "execution_count": null,
   "metadata": {},
   "outputs": [],
   "source": []
  }
 ],
 "metadata": {
  "kernelspec": {
   "display_name": "Python 3",
   "language": "python",
   "name": "python3"
  },
  "language_info": {
   "codemirror_mode": {
    "name": "ipython",
    "version": 3
   },
   "file_extension": ".py",
   "mimetype": "text/x-python",
   "name": "python",
   "nbconvert_exporter": "python",
   "pygments_lexer": "ipython3",
   "version": "3.6.3"
  }
 },
 "nbformat": 4,
 "nbformat_minor": 2
}
