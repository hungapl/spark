{
 "cells": [
  {
   "cell_type": "markdown",
   "metadata": {},
   "source": [
    "# Dataframe Operations"
   ]
  },
  {
   "cell_type": "code",
   "execution_count": 19,
   "metadata": {},
   "outputs": [
    {
     "name": "stdout",
     "output_type": "stream",
     "text": [
      "+------------------+---------+--------+-----+\n",
      "|             title|   author|    type|price|\n",
      "+------------------+---------+--------+-----+\n",
      "|      Where's Spot|Eric Hill|Children|   10|\n",
      "|The Cat In The Hat|Dr. Seuss|Children|   15|\n",
      "+------------------+---------+--------+-----+\n",
      "\n"
     ]
    }
   ],
   "source": [
    "# Based on Spark 2.3.0 Doc\n",
    "\n",
    "from pyspark.sql import SparkSession\n",
    "\n",
    "spark = SparkSession \\\n",
    "    .builder \\\n",
    "    .appName(\"Python Spark SQL basic example\") \\\n",
    "    .getOrCreate()\n",
    "\n",
    "# Create a DataFrame\n",
    "books = spark.read.csv(\"books.csv\", header=True)\n",
    "books.show()\n"
   ]
  },
  {
   "cell_type": "code",
   "execution_count": 9,
   "metadata": {},
   "outputs": [
    {
     "name": "stdout",
     "output_type": "stream",
     "text": [
      "root\n",
      " |-- title: string (nullable = true)\n",
      " |--  author: string (nullable = true)\n",
      " |--  type: string (nullable = true)\n",
      " |--  price: string (nullable = true)\n",
      "\n"
     ]
    }
   ],
   "source": [
    "# DataFrame operations\n",
    "\n",
    "# Print Schema in tree format\n",
    "books.printSchema()"
   ]
  },
  {
   "cell_type": "code",
   "execution_count": 10,
   "metadata": {},
   "outputs": [
    {
     "name": "stdout",
     "output_type": "stream",
     "text": [
      "+------------------+\n",
      "|             title|\n",
      "+------------------+\n",
      "|      Where's Spot|\n",
      "|The Cat In The Hat|\n",
      "+------------------+\n",
      "\n"
     ]
    }
   ],
   "source": [
    "# Show a single column\n",
    "books.select(\"title\").show()"
   ]
  },
  {
   "cell_type": "code",
   "execution_count": 16,
   "metadata": {},
   "outputs": [
    {
     "name": "stdout",
     "output_type": "stream",
     "text": [
      "+------------------+---------+--------+-----+\n",
      "|             title|   author|    type|price|\n",
      "+------------------+---------+--------+-----+\n",
      "|The Cat In The Hat|Dr. Seuss|Children|   15|\n",
      "+------------------+---------+--------+-----+\n",
      "\n"
     ]
    }
   ],
   "source": [
    "# Filter by a condition\n",
    "books.filter(books[\"price\"] > 12).show()"
   ]
  },
  {
   "cell_type": "code",
   "execution_count": 20,
   "metadata": {},
   "outputs": [
    {
     "name": "stdout",
     "output_type": "stream",
     "text": [
      "+--------+-----+\n",
      "|    type|count|\n",
      "+--------+-----+\n",
      "|Children|    2|\n",
      "+--------+-----+\n",
      "\n"
     ]
    }
   ],
   "source": [
    "# Count for each type group\n",
    "books.groupBy(\"type\").count().show()"
   ]
  },
  {
   "cell_type": "code",
   "execution_count": 21,
   "metadata": {},
   "outputs": [
    {
     "name": "stdout",
     "output_type": "stream",
     "text": [
      "+------------------+---------+--------+-----+\n",
      "|             title|   author|    type|price|\n",
      "+------------------+---------+--------+-----+\n",
      "|The Cat In The Hat|Dr. Seuss|Children|   15|\n",
      "+------------------+---------+--------+-----+\n",
      "\n"
     ]
    }
   ],
   "source": [
    "# SQL example\n",
    "\n",
    "# Register as temporary view within this spark session\n",
    "books.createOrReplaceTempView(\"books\")\n",
    "sqlDf = spark.sql(\"select * from books where price > 12\")\n",
    "sqlDf.show()"
   ]
  },
  {
   "cell_type": "code",
   "execution_count": 24,
   "metadata": {},
   "outputs": [],
   "source": [
    "# Saving a dataset\n",
    "sqlDf = sqlDf.select(\"title\", \"author\", \"price\").write.save(\"_results.csv\")"
   ]
  },
  {
   "cell_type": "code",
   "execution_count": 29,
   "metadata": {},
   "outputs": [
    {
     "data": {
      "text/html": [
       "<div>\n",
       "<style scoped>\n",
       "    .dataframe tbody tr th:only-of-type {\n",
       "        vertical-align: middle;\n",
       "    }\n",
       "\n",
       "    .dataframe tbody tr th {\n",
       "        vertical-align: top;\n",
       "    }\n",
       "\n",
       "    .dataframe thead th {\n",
       "        text-align: right;\n",
       "    }\n",
       "</style>\n",
       "<table border=\"1\" class=\"dataframe\">\n",
       "  <thead>\n",
       "    <tr style=\"text-align: right;\">\n",
       "      <th></th>\n",
       "      <th>title</th>\n",
       "      <th>author</th>\n",
       "      <th>type</th>\n",
       "      <th>price</th>\n",
       "    </tr>\n",
       "  </thead>\n",
       "  <tbody>\n",
       "    <tr>\n",
       "      <th>0</th>\n",
       "      <td>Where's Spot</td>\n",
       "      <td>Eric Hill</td>\n",
       "      <td>Children</td>\n",
       "      <td>10</td>\n",
       "    </tr>\n",
       "    <tr>\n",
       "      <th>1</th>\n",
       "      <td>The Cat In The Hat</td>\n",
       "      <td>Dr. Seuss</td>\n",
       "      <td>Children</td>\n",
       "      <td>15</td>\n",
       "    </tr>\n",
       "  </tbody>\n",
       "</table>\n",
       "</div>"
      ],
      "text/plain": [
       "                title     author      type price\n",
       "0        Where's Spot  Eric Hill  Children    10\n",
       "1  The Cat In The Hat  Dr. Seuss  Children    15"
      ]
     },
     "execution_count": 29,
     "metadata": {},
     "output_type": "execute_result"
    }
   ],
   "source": [
    "# Convert to pandas dataframe\n",
    "booksPd = books.toPandas()\n",
    "booksPd.head()"
   ]
  }
 ],
 "metadata": {
  "kernelspec": {
   "display_name": "Python 3",
   "language": "python",
   "name": "python3"
  },
  "language_info": {
   "codemirror_mode": {
    "name": "ipython",
    "version": 3
   },
   "file_extension": ".py",
   "mimetype": "text/x-python",
   "name": "python",
   "nbconvert_exporter": "python",
   "pygments_lexer": "ipython3",
   "version": "3.6.3"
  }
 },
 "nbformat": 4,
 "nbformat_minor": 2
}
