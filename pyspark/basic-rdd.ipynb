{
 "cells": [
  {
   "cell_type": "markdown",
   "metadata": {},
   "source": [
    "# RDD Operations"
   ]
  },
  {
   "cell_type": "code",
   "execution_count": 1,
   "metadata": {},
   "outputs": [],
   "source": [
    "# Based on Spark 2.3.0 Doc\n",
    "\n",
    "from pyspark.sql import SparkSession\n",
    "from pyspark.sql import Row\n",
    "\n",
    "spark = SparkSession \\\n",
    "    .builder \\\n",
    "    .appName(\"Python Spark SQL basic example\") \\\n",
    "    .getOrCreate()\n"
   ]
  },
  {
   "cell_type": "code",
   "execution_count": 2,
   "metadata": {},
   "outputs": [
    {
     "name": "stdout",
     "output_type": "stream",
     "text": [
      "\n",
      "distDetails type:<class 'pyspark.rdd.PipelinedRDD'>\n"
     ]
    }
   ],
   "source": [
    "# Create RDD from existing collection in drive program\n",
    "\n",
    "nums = range(1,4)\n",
    "distNums = spark.sparkContext.parallelize(nums)\n",
    "print()\n",
    "print(\"distDetails type:\" + str(type(distNums)))\n"
   ]
  },
  {
   "cell_type": "code",
   "execution_count": 3,
   "metadata": {},
   "outputs": [
    {
     "name": "stdout",
     "output_type": "stream",
     "text": [
      "+-------------------+------------+--------+-----+\n",
      "|              title|      author|    type|price|\n",
      "+-------------------+------------+--------+-----+\n",
      "|       Where's Spot|   Eric Hill|Children|   10|\n",
      "| The Cat In The Hat|   Dr. Seuss|Children|   15|\n",
      "|Jamie's 15 Min Meal|Jamie Oliver|Adult NF|   20|\n",
      "+-------------------+------------+--------+-----+\n",
      "\n",
      "<class 'pyspark.rdd.RDD'>\n"
     ]
    }
   ],
   "source": [
    "# Read source data from a file and convert to RDD\n",
    "books = spark.read.csv(\"books.csv\", header=True)\n",
    "books.show()\n",
    "bookRDD = books.rdd\n",
    "print(type(bookRDD)) # an RDD[Row]"
   ]
  },
  {
   "cell_type": "code",
   "execution_count": 4,
   "metadata": {},
   "outputs": [
    {
     "name": "stdout",
     "output_type": "stream",
     "text": [
      "[\"Where's Spot by Eric Hill\", 'The Cat In The Hat by Dr. Seuss', \"Jamie's 15 Min Meal by Jamie Oliver\"]\n",
      "\n",
      "bookDetails type:<class 'list'>\n"
     ]
    }
   ],
   "source": [
    "# Call map to apply a function on RDD then use collect to materialise\n",
    "bookDetails = bookRDD.map(lambda b: b.title + \" by \" + b.author).collect()\n",
    "print(bookDetails)\n",
    "\n",
    "print()\n",
    "print(\"bookDetails type:\" + str(type(bookDetails)))"
   ]
  },
  {
   "cell_type": "code",
   "execution_count": 5,
   "metadata": {},
   "outputs": [
    {
     "name": "stdout",
     "output_type": "stream",
     "text": [
      "[\"Where's Spot by Eric Hill\", 'The Cat In The Hat by Dr. Seuss', \"Jamie's 15 Min Meal by Jamie Oliver\"]\n"
     ]
    }
   ],
   "source": [
    "# Called map by passing in a defined function\n",
    "def myFunction(book):\n",
    "    return book.title + \" by \" + book.author\n",
    "bookDetails = bookRDD.map(myFunction).collect()\n",
    "print(bookDetails)"
   ]
  },
  {
   "cell_type": "code",
   "execution_count": 6,
   "metadata": {},
   "outputs": [
    {
     "data": {
      "text/plain": [
       "[\"Where's Spot===\", 'The Cat In The Hat===', \"Jamie's 15 Min Meal===\"]"
      ]
     },
     "execution_count": 6,
     "metadata": {},
     "output_type": "execute_result"
    }
   ],
   "source": [
    "# IMPORTANT: If the lambda referencing an object the entire object will be send to the cluster, hence try \n",
    "# only access local variables in lambda function\n",
    "\n",
    "class ClassA(object):\n",
    "    def __init__(self):\n",
    "        self.value = \"===\"\n",
    "\n",
    "a = ClassA()\n",
    "bookRDD.map(lambda b: b.title + a.value).collect() # <- avoid this\n",
    "\n",
    "v = a.value\n",
    "bookRDD.map(lambda b: b.title + v).collect()"
   ]
  }
 ],
 "metadata": {
  "kernelspec": {
   "display_name": "Python 3",
   "language": "python",
   "name": "python3"
  },
  "language_info": {
   "codemirror_mode": {
    "name": "ipython",
    "version": 3
   },
   "file_extension": ".py",
   "mimetype": "text/x-python",
   "name": "python",
   "nbconvert_exporter": "python",
   "pygments_lexer": "ipython3",
   "version": "3.6.3"
  }
 },
 "nbformat": 4,
 "nbformat_minor": 2
}
